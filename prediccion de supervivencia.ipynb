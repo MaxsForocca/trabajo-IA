{
 "cells": [
  {
   "cell_type": "markdown",
   "id": "af98012b-e9a7-43eb-98f9-2da7f5cffb28",
   "metadata": {},
   "source": [
    "# **Prediccion de supervivencia en pacientes con cancer de pulmon**"
   ]
  },
  {
   "cell_type": "code",
   "execution_count": 4,
   "id": "ab5a5c2d-b85a-4457-ad33-b068742a41eb",
   "metadata": {},
   "outputs": [],
   "source": [
    "#import pandas as pd\n",
    "import os\n",
    "import sys\n",
    "#import matplotlib.pyplot as plt\n",
    "#from pycaret"
   ]
  },
  {
   "cell_type": "markdown",
   "id": "d44c3833-524c-439c-9d11-fe848949f0be",
   "metadata": {},
   "source": [
    "## **1. Integracion y recopilacion**"
   ]
  },
  {
   "cell_type": "code",
   "execution_count": 6,
   "id": "26c9be04-83dd-4550-89a3-b81350eec18f",
   "metadata": {
    "scrolled": true
   },
   "outputs": [
    {
     "name": "stdout",
     "output_type": "stream",
     "text": [
      "C:\\Universidad\\UNSA\\2025A\\Inteligencia Artificial\\Notebook\\trabajo-IA\\dataset\\dataset_med.csv\n"
     ]
    }
   ],
   "source": [
    "# Obtener directorio actual\n",
    "current_dir = os.getcwd()\n",
    "dataset_path = os.path.join(current_dir, 'dataset', 'dataset_med.csv')\n",
    "print(dataset_path)"
   ]
  },
  {
   "cell_type": "markdown",
   "id": "5b752fa6-6d8d-4d89-82b5-687cb1b03e45",
   "metadata": {},
   "source": [
    "## **2. Limpieza de Datos**"
   ]
  },
  {
   "cell_type": "code",
   "execution_count": null,
   "id": "193b253d-46ad-4bdf-99ba-23ed951dfcbb",
   "metadata": {},
   "outputs": [],
   "source": []
  },
  {
   "cell_type": "markdown",
   "id": "62a6cadc-8178-49d5-817f-b97241a65ec4",
   "metadata": {},
   "source": [
    "## **3. Mineria de datos**"
   ]
  },
  {
   "cell_type": "code",
   "execution_count": null,
   "id": "f5bb9472-e078-4704-a694-a1b76f752b1c",
   "metadata": {},
   "outputs": [],
   "source": []
  },
  {
   "cell_type": "markdown",
   "id": "40128459-d83d-415e-b268-1e090b291f57",
   "metadata": {},
   "source": [
    "## **4. Evaluacion e Interpretacion**"
   ]
  },
  {
   "cell_type": "code",
   "execution_count": null,
   "id": "c15e60c5-2217-4202-a772-10230b81eae9",
   "metadata": {},
   "outputs": [],
   "source": []
  },
  {
   "cell_type": "markdown",
   "id": "30f697e9-f43e-4551-8535-a1399155508a",
   "metadata": {},
   "source": [
    "## **5. Difusion y Uso**"
   ]
  },
  {
   "cell_type": "code",
   "execution_count": null,
   "id": "0ab8b6ac-50ed-445e-8864-31d6e929a311",
   "metadata": {},
   "outputs": [],
   "source": []
  }
 ],
 "metadata": {
  "kernelspec": {
   "display_name": "Python 3 (ipykernel)",
   "language": "python",
   "name": "python3"
  },
  "language_info": {
   "codemirror_mode": {
    "name": "ipython",
    "version": 3
   },
   "file_extension": ".py",
   "mimetype": "text/x-python",
   "name": "python",
   "nbconvert_exporter": "python",
   "pygments_lexer": "ipython3",
   "version": "3.11.3"
  }
 },
 "nbformat": 4,
 "nbformat_minor": 5
}
